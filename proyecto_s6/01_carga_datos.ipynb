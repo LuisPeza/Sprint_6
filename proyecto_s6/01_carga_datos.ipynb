{
 "cells": [
  {
   "cell_type": "markdown",
   "id": "5d35f25d",
   "metadata": {},
   "source": [
    "## TIENDA ONLINE ICE- Proyecto 6\n",
    "\n",
    "Es una tienda de videojuegos online que vende por todo el mundo. \n",
    "\n",
    "El objetivo del proyecto es responder algunas preguntas planteadas por la empresa como: \n",
    "- Determinar si un juego tiene exito o no. \n",
    "\n",
    "Con el objetivo podemos identificar y planificar las campañas de publicidad en base a los datos obtenidos. "
   ]
  },
  {
   "cell_type": "markdown",
   "id": "85f8dab5",
   "metadata": {},
   "source": [
    "#paso 1- Abrir y cargar el archivo y estudiar la informacion general"
   ]
  },
  {
   "cell_type": "code",
   "execution_count": 1,
   "id": "68414237",
   "metadata": {},
   "outputs": [],
   "source": [
    "#1.1 Cargar librerias para guardar el df \n",
    "import pandas as pd"
   ]
  },
  {
   "cell_type": "code",
   "execution_count": 2,
   "id": "5cb50fbf",
   "metadata": {},
   "outputs": [],
   "source": [
    "#cargar el dataset\n",
    "df = pd.read_csv(\"https://raw.githubusercontent.com/jsaraujott/datos/refs/heads/main/games.csv\",sep= \",\")"
   ]
  },
  {
   "cell_type": "code",
   "execution_count": 3,
   "id": "1cdf64cc",
   "metadata": {},
   "outputs": [],
   "source": [
    "#Guardamos en df de forma local y le asignamos de nombre df_games_p\n",
    "df.to_csv('df_games_p.csv',index=False)"
   ]
  }
 ],
 "metadata": {
  "kernelspec": {
   "display_name": "Python 3",
   "language": "python",
   "name": "python3"
  },
  "language_info": {
   "codemirror_mode": {
    "name": "ipython",
    "version": 3
   },
   "file_extension": ".py",
   "mimetype": "text/x-python",
   "name": "python",
   "nbconvert_exporter": "python",
   "pygments_lexer": "ipython3",
   "version": "3.13.3"
  }
 },
 "nbformat": 4,
 "nbformat_minor": 5
}
