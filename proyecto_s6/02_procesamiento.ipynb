{
 "cells": [
  {
   "cell_type": "markdown",
   "id": "905cf39b",
   "metadata": {},
   "source": [
    "## Paso 2. Prepara los datos.\n",
    "Realizamos el procesamiento de datos y la limpieza de los mismos"
   ]
  },
  {
   "cell_type": "code",
   "execution_count": 122,
   "id": "d60d03d4",
   "metadata": {},
   "outputs": [],
   "source": [
    "#cargar librerias\n",
    "#Importar las librerias que usaremos en el proyecto\n",
    "import pandas as pd\n",
    "import numpy as np\n",
    "from matplotlib import pyplot as plt\n",
    "from scipy import stats as st\n",
    "import math"
   ]
  },
  {
   "cell_type": "code",
   "execution_count": 123,
   "id": "29fad2a3",
   "metadata": {},
   "outputs": [],
   "source": [
    "#cargamos los datos del dataset\n",
    "df_games = pd.read_csv('df_games_p.csv')"
   ]
  },
  {
   "cell_type": "code",
   "execution_count": 124,
   "id": "af0998d7",
   "metadata": {},
   "outputs": [
    {
     "name": "stdout",
     "output_type": "stream",
     "text": [
      "<class 'pandas.core.frame.DataFrame'>\n",
      "RangeIndex: 16715 entries, 0 to 16714\n",
      "Data columns (total 11 columns):\n",
      " #   Column           Non-Null Count  Dtype  \n",
      "---  ------           --------------  -----  \n",
      " 0   Name             16713 non-null  object \n",
      " 1   Platform         16715 non-null  object \n",
      " 2   Year_of_Release  16446 non-null  float64\n",
      " 3   Genre            16713 non-null  object \n",
      " 4   NA_sales         16715 non-null  float64\n",
      " 5   EU_sales         16715 non-null  float64\n",
      " 6   JP_sales         16715 non-null  float64\n",
      " 7   Other_sales      16715 non-null  float64\n",
      " 8   Critic_Score     8137 non-null   float64\n",
      " 9   User_Score       10014 non-null  object \n",
      " 10  Rating           9949 non-null   object \n",
      "dtypes: float64(6), object(5)\n",
      "memory usage: 1.4+ MB\n"
     ]
    }
   ],
   "source": [
    "#Vamos a darle un vistazo a la informacion del dataset usamos info()\n",
    "df_games.info()"
   ]
  },
  {
   "cell_type": "markdown",
   "id": "8a2cb796",
   "metadata": {},
   "source": [
    "### Anotaciones de la primera impresión del data\n",
    "- Se ve de entrada que los nombres de las columnas estan en mayusculas y minusculas, vamos a cambiarlas a minusculas\n",
    "- Vamos a cambiar los tipos de datos de la columna User_Score a float y el de la columna Year a int"
   ]
  },
  {
   "cell_type": "code",
   "execution_count": 125,
   "id": "71505459",
   "metadata": {},
   "outputs": [
    {
     "data": {
      "text/plain": [
       "Name                  2\n",
       "Platform              0\n",
       "Year_of_Release     269\n",
       "Genre                 2\n",
       "NA_sales              0\n",
       "EU_sales              0\n",
       "JP_sales              0\n",
       "Other_sales           0\n",
       "Critic_Score       8578\n",
       "User_Score         6701\n",
       "Rating             6766\n",
       "dtype: int64"
      ]
     },
     "execution_count": 125,
     "metadata": {},
     "output_type": "execute_result"
    }
   ],
   "source": [
    "#Revisamos si existen valores perdidos en el df\n",
    "df_games.isna().sum()"
   ]
  },
  {
   "cell_type": "markdown",
   "id": "de0516d7",
   "metadata": {},
   "source": [
    "- Vemos que existen valores perdidos en la columna Year, Critic,User_score, Name y Genre\n",
    "- Para los valores perdidos de la columna Year los vamos a eliminar ya que son pocos valores"
   ]
  },
  {
   "cell_type": "code",
   "execution_count": 126,
   "id": "47dac1d5",
   "metadata": {},
   "outputs": [
    {
     "data": {
      "application/vnd.microsoft.datawrangler.viewer.v0+json": {
       "columns": [
        {
         "name": "index",
         "rawType": "int64",
         "type": "integer"
        },
        {
         "name": "Name",
         "rawType": "object",
         "type": "string"
        },
        {
         "name": "Platform",
         "rawType": "object",
         "type": "string"
        },
        {
         "name": "Year_of_Release",
         "rawType": "float64",
         "type": "float"
        },
        {
         "name": "Genre",
         "rawType": "object",
         "type": "string"
        },
        {
         "name": "NA_sales",
         "rawType": "float64",
         "type": "float"
        },
        {
         "name": "EU_sales",
         "rawType": "float64",
         "type": "float"
        },
        {
         "name": "JP_sales",
         "rawType": "float64",
         "type": "float"
        },
        {
         "name": "Other_sales",
         "rawType": "float64",
         "type": "float"
        },
        {
         "name": "Critic_Score",
         "rawType": "float64",
         "type": "float"
        },
        {
         "name": "User_Score",
         "rawType": "object",
         "type": "unknown"
        },
        {
         "name": "Rating",
         "rawType": "object",
         "type": "unknown"
        }
       ],
       "conversionMethod": "pd.DataFrame",
       "ref": "ad7cf412-ccec-4c0a-b6a3-d1d57f729c77",
       "rows": [
        [
         "8751",
         "Bust-A-Move Bash!",
         "Wii",
         "2007.0",
         "Puzzle",
         "0.13",
         "0.01",
         "0.0",
         "0.01",
         null,
         null,
         null
        ],
        [
         "6137",
         "Shrek the Third",
         "Wii",
         "2007.0",
         "Action",
         "0.25",
         "0.01",
         "0.0",
         "0.02",
         "57.0",
         "6.7",
         "E10+"
        ],
        [
         "9146",
         "The Granstream Saga",
         "PS",
         "1997.0",
         "Role-Playing",
         "0.08",
         "0.05",
         "0.0",
         "0.01",
         null,
         null,
         null
        ],
        [
         "1284",
         "Disney Sing It: Pop Hits",
         "Wii",
         "2009.0",
         "Misc",
         "1.07",
         "0.28",
         "0.0",
         "0.13",
         null,
         "tbd",
         "E"
        ],
        [
         "6142",
         "Jackass the Game",
         "PS2",
         "2007.0",
         "Action",
         "0.14",
         "0.11",
         "0.0",
         "0.04",
         "58.0",
         "6.6",
         "M"
        ],
        [
         "13861",
         "BlazBlue: Chrono Phantasma Extend",
         "PS3",
         "2015.0",
         "Action",
         "0.0",
         "0.0",
         "0.04",
         "0.0",
         null,
         "8.3",
         "T"
        ],
        [
         "10256",
         "Shining Ark",
         "PSP",
         "2013.0",
         "Role-Playing",
         "0.0",
         "0.0",
         "0.11",
         "0.0",
         null,
         null,
         null
        ],
        [
         "5083",
         "Kileak: The DNA Imperative",
         "PS",
         "1994.0",
         "Shooter",
         "0.08",
         "0.06",
         "0.21",
         "0.02",
         null,
         null,
         null
        ],
        [
         "2312",
         "LEGO Pirates of the Caribbean: The Video Game",
         "DS",
         "2011.0",
         "Action",
         "0.34",
         "0.46",
         "0.0",
         "0.1",
         "69.0",
         "tbd",
         "E10+"
        ],
        [
         "5221",
         "Spider-Man: Shattered Dimensions",
         "X360",
         "2010.0",
         "Action",
         "0.24",
         "0.08",
         "0.0",
         "0.03",
         "76.0",
         "7.6",
         "T"
        ]
       ],
       "shape": {
        "columns": 11,
        "rows": 10
       }
      },
      "text/html": [
       "<div>\n",
       "<style scoped>\n",
       "    .dataframe tbody tr th:only-of-type {\n",
       "        vertical-align: middle;\n",
       "    }\n",
       "\n",
       "    .dataframe tbody tr th {\n",
       "        vertical-align: top;\n",
       "    }\n",
       "\n",
       "    .dataframe thead th {\n",
       "        text-align: right;\n",
       "    }\n",
       "</style>\n",
       "<table border=\"1\" class=\"dataframe\">\n",
       "  <thead>\n",
       "    <tr style=\"text-align: right;\">\n",
       "      <th></th>\n",
       "      <th>Name</th>\n",
       "      <th>Platform</th>\n",
       "      <th>Year_of_Release</th>\n",
       "      <th>Genre</th>\n",
       "      <th>NA_sales</th>\n",
       "      <th>EU_sales</th>\n",
       "      <th>JP_sales</th>\n",
       "      <th>Other_sales</th>\n",
       "      <th>Critic_Score</th>\n",
       "      <th>User_Score</th>\n",
       "      <th>Rating</th>\n",
       "    </tr>\n",
       "  </thead>\n",
       "  <tbody>\n",
       "    <tr>\n",
       "      <th>8751</th>\n",
       "      <td>Bust-A-Move Bash!</td>\n",
       "      <td>Wii</td>\n",
       "      <td>2007.0</td>\n",
       "      <td>Puzzle</td>\n",
       "      <td>0.13</td>\n",
       "      <td>0.01</td>\n",
       "      <td>0.00</td>\n",
       "      <td>0.01</td>\n",
       "      <td>NaN</td>\n",
       "      <td>NaN</td>\n",
       "      <td>NaN</td>\n",
       "    </tr>\n",
       "    <tr>\n",
       "      <th>6137</th>\n",
       "      <td>Shrek the Third</td>\n",
       "      <td>Wii</td>\n",
       "      <td>2007.0</td>\n",
       "      <td>Action</td>\n",
       "      <td>0.25</td>\n",
       "      <td>0.01</td>\n",
       "      <td>0.00</td>\n",
       "      <td>0.02</td>\n",
       "      <td>57.0</td>\n",
       "      <td>6.7</td>\n",
       "      <td>E10+</td>\n",
       "    </tr>\n",
       "    <tr>\n",
       "      <th>9146</th>\n",
       "      <td>The Granstream Saga</td>\n",
       "      <td>PS</td>\n",
       "      <td>1997.0</td>\n",
       "      <td>Role-Playing</td>\n",
       "      <td>0.08</td>\n",
       "      <td>0.05</td>\n",
       "      <td>0.00</td>\n",
       "      <td>0.01</td>\n",
       "      <td>NaN</td>\n",
       "      <td>NaN</td>\n",
       "      <td>NaN</td>\n",
       "    </tr>\n",
       "    <tr>\n",
       "      <th>1284</th>\n",
       "      <td>Disney Sing It: Pop Hits</td>\n",
       "      <td>Wii</td>\n",
       "      <td>2009.0</td>\n",
       "      <td>Misc</td>\n",
       "      <td>1.07</td>\n",
       "      <td>0.28</td>\n",
       "      <td>0.00</td>\n",
       "      <td>0.13</td>\n",
       "      <td>NaN</td>\n",
       "      <td>tbd</td>\n",
       "      <td>E</td>\n",
       "    </tr>\n",
       "    <tr>\n",
       "      <th>6142</th>\n",
       "      <td>Jackass the Game</td>\n",
       "      <td>PS2</td>\n",
       "      <td>2007.0</td>\n",
       "      <td>Action</td>\n",
       "      <td>0.14</td>\n",
       "      <td>0.11</td>\n",
       "      <td>0.00</td>\n",
       "      <td>0.04</td>\n",
       "      <td>58.0</td>\n",
       "      <td>6.6</td>\n",
       "      <td>M</td>\n",
       "    </tr>\n",
       "    <tr>\n",
       "      <th>13861</th>\n",
       "      <td>BlazBlue: Chrono Phantasma Extend</td>\n",
       "      <td>PS3</td>\n",
       "      <td>2015.0</td>\n",
       "      <td>Action</td>\n",
       "      <td>0.00</td>\n",
       "      <td>0.00</td>\n",
       "      <td>0.04</td>\n",
       "      <td>0.00</td>\n",
       "      <td>NaN</td>\n",
       "      <td>8.3</td>\n",
       "      <td>T</td>\n",
       "    </tr>\n",
       "    <tr>\n",
       "      <th>10256</th>\n",
       "      <td>Shining Ark</td>\n",
       "      <td>PSP</td>\n",
       "      <td>2013.0</td>\n",
       "      <td>Role-Playing</td>\n",
       "      <td>0.00</td>\n",
       "      <td>0.00</td>\n",
       "      <td>0.11</td>\n",
       "      <td>0.00</td>\n",
       "      <td>NaN</td>\n",
       "      <td>NaN</td>\n",
       "      <td>NaN</td>\n",
       "    </tr>\n",
       "    <tr>\n",
       "      <th>5083</th>\n",
       "      <td>Kileak: The DNA Imperative</td>\n",
       "      <td>PS</td>\n",
       "      <td>1994.0</td>\n",
       "      <td>Shooter</td>\n",
       "      <td>0.08</td>\n",
       "      <td>0.06</td>\n",
       "      <td>0.21</td>\n",
       "      <td>0.02</td>\n",
       "      <td>NaN</td>\n",
       "      <td>NaN</td>\n",
       "      <td>NaN</td>\n",
       "    </tr>\n",
       "    <tr>\n",
       "      <th>2312</th>\n",
       "      <td>LEGO Pirates of the Caribbean: The Video Game</td>\n",
       "      <td>DS</td>\n",
       "      <td>2011.0</td>\n",
       "      <td>Action</td>\n",
       "      <td>0.34</td>\n",
       "      <td>0.46</td>\n",
       "      <td>0.00</td>\n",
       "      <td>0.10</td>\n",
       "      <td>69.0</td>\n",
       "      <td>tbd</td>\n",
       "      <td>E10+</td>\n",
       "    </tr>\n",
       "    <tr>\n",
       "      <th>5221</th>\n",
       "      <td>Spider-Man: Shattered Dimensions</td>\n",
       "      <td>X360</td>\n",
       "      <td>2010.0</td>\n",
       "      <td>Action</td>\n",
       "      <td>0.24</td>\n",
       "      <td>0.08</td>\n",
       "      <td>0.00</td>\n",
       "      <td>0.03</td>\n",
       "      <td>76.0</td>\n",
       "      <td>7.6</td>\n",
       "      <td>T</td>\n",
       "    </tr>\n",
       "  </tbody>\n",
       "</table>\n",
       "</div>"
      ],
      "text/plain": [
       "                                                Name Platform  \\\n",
       "8751                               Bust-A-Move Bash!      Wii   \n",
       "6137                                 Shrek the Third      Wii   \n",
       "9146                             The Granstream Saga       PS   \n",
       "1284                        Disney Sing It: Pop Hits      Wii   \n",
       "6142                                Jackass the Game      PS2   \n",
       "13861              BlazBlue: Chrono Phantasma Extend      PS3   \n",
       "10256                                    Shining Ark      PSP   \n",
       "5083                      Kileak: The DNA Imperative       PS   \n",
       "2312   LEGO Pirates of the Caribbean: The Video Game       DS   \n",
       "5221                Spider-Man: Shattered Dimensions     X360   \n",
       "\n",
       "       Year_of_Release         Genre  NA_sales  EU_sales  JP_sales  \\\n",
       "8751            2007.0        Puzzle      0.13      0.01      0.00   \n",
       "6137            2007.0        Action      0.25      0.01      0.00   \n",
       "9146            1997.0  Role-Playing      0.08      0.05      0.00   \n",
       "1284            2009.0          Misc      1.07      0.28      0.00   \n",
       "6142            2007.0        Action      0.14      0.11      0.00   \n",
       "13861           2015.0        Action      0.00      0.00      0.04   \n",
       "10256           2013.0  Role-Playing      0.00      0.00      0.11   \n",
       "5083            1994.0       Shooter      0.08      0.06      0.21   \n",
       "2312            2011.0        Action      0.34      0.46      0.00   \n",
       "5221            2010.0        Action      0.24      0.08      0.00   \n",
       "\n",
       "       Other_sales  Critic_Score User_Score Rating  \n",
       "8751          0.01           NaN        NaN    NaN  \n",
       "6137          0.02          57.0        6.7   E10+  \n",
       "9146          0.01           NaN        NaN    NaN  \n",
       "1284          0.13           NaN        tbd      E  \n",
       "6142          0.04          58.0        6.6      M  \n",
       "13861         0.00           NaN        8.3      T  \n",
       "10256         0.00           NaN        NaN    NaN  \n",
       "5083          0.02           NaN        NaN    NaN  \n",
       "2312          0.10          69.0        tbd   E10+  \n",
       "5221          0.03          76.0        7.6      T  "
      ]
     },
     "execution_count": 126,
     "metadata": {},
     "output_type": "execute_result"
    }
   ],
   "source": [
    "#Visualizamos la informacion general del data con sample() para conocer la informacion que contiene\n",
    "df_games.sample(10)"
   ]
  },
  {
   "cell_type": "markdown",
   "id": "e2a22ecb",
   "metadata": {},
   "source": [
    "- Viendo los datos se ve que los datos de la columna Name igual vienen en mayusculas y minusculas y algunos signos de deseparación entre palabras vamos a quitarlas\n"
   ]
  },
  {
   "cell_type": "code",
   "execution_count": 127,
   "id": "ffad409f",
   "metadata": {},
   "outputs": [
    {
     "name": "stdout",
     "output_type": "stream",
     "text": [
      "['Wii' 'NES' 'GB' 'DS' 'X360' 'PS3' 'PS2' 'SNES' 'GBA' 'PS4' '3DS' 'N64'\n",
      " 'PS' 'XB' 'PC' '2600' 'PSP' 'XOne' 'WiiU' 'GC' 'GEN' 'DC' 'PSV' 'SAT'\n",
      " 'SCD' 'WS' 'NG' 'TG16' '3DO' 'GG' 'PCFX']\n"
     ]
    },
    {
     "data": {
      "text/plain": [
       "31"
      ]
     },
     "execution_count": 127,
     "metadata": {},
     "output_type": "execute_result"
    }
   ],
   "source": [
    "#Vemos los valores unicos de la columna Platform y contamos cuantos valores son\n",
    "print(df_games['Platform'].unique())\n",
    "\n",
    "df_games['Platform'].nunique()"
   ]
  },
  {
   "cell_type": "markdown",
   "id": "87bb5f1e",
   "metadata": {},
   "source": [
    "- Vemos que tenemos 31 plataformas de video juegos\n",
    "- Podemos agrupar los juegos con para reducir el numero de plataformas"
   ]
  },
  {
   "cell_type": "code",
   "execution_count": 128,
   "id": "3b4ac339",
   "metadata": {},
   "outputs": [
    {
     "data": {
      "text/plain": [
       "array([2006., 1985., 2008., 2009., 1996., 1989., 1984., 2005., 1999.,\n",
       "       2007., 2010., 2013., 2004., 1990., 1988., 2002., 2001., 2011.,\n",
       "       1998., 2015., 2012., 2014., 1992., 1997., 1993., 1994., 1982.,\n",
       "       2016., 2003., 1986., 2000.,   nan, 1995., 1991., 1981., 1987.,\n",
       "       1980., 1983.])"
      ]
     },
     "execution_count": 128,
     "metadata": {},
     "output_type": "execute_result"
    }
   ],
   "source": [
    "#Detalle de la columna Year\n",
    "df_games['Year_of_Release'].unique()"
   ]
  },
  {
   "cell_type": "code",
   "execution_count": 129,
   "id": "725a5564",
   "metadata": {},
   "outputs": [
    {
     "data": {
      "text/plain": [
       "Genre\n",
       "Action          3369\n",
       "Sports          2348\n",
       "Misc            1750\n",
       "Role-Playing    1498\n",
       "Shooter         1323\n",
       "Adventure       1303\n",
       "Racing          1249\n",
       "Platform         888\n",
       "Simulation       873\n",
       "Fighting         849\n",
       "Strategy         683\n",
       "Puzzle           580\n",
       "Name: count, dtype: int64"
      ]
     },
     "execution_count": 129,
     "metadata": {},
     "output_type": "execute_result"
    }
   ],
   "source": [
    "#Detalle de generos contamos los valores unicos de los juegos por genero\n",
    "df_games['Genre'].value_counts()"
   ]
  },
  {
   "cell_type": "code",
   "execution_count": 130,
   "id": "2d240b2f",
   "metadata": {},
   "outputs": [
    {
     "data": {
      "text/plain": [
       "array([76., nan, 82., 80., 89., 58., 87., 91., 61., 97., 95., 77., 88.,\n",
       "       83., 94., 93., 85., 86., 98., 96., 90., 84., 73., 74., 78., 92.,\n",
       "       71., 72., 68., 62., 49., 67., 81., 66., 56., 79., 70., 59., 64.,\n",
       "       75., 60., 63., 69., 50., 25., 42., 44., 55., 48., 57., 29., 47.,\n",
       "       65., 54., 20., 53., 37., 38., 33., 52., 30., 32., 43., 45., 51.,\n",
       "       40., 46., 39., 34., 35., 41., 36., 28., 31., 27., 26., 19., 23.,\n",
       "       24., 21., 17., 22., 13.])"
      ]
     },
     "execution_count": 130,
     "metadata": {},
     "output_type": "execute_result"
    }
   ],
   "source": [
    "df_games['Critic_Score'].unique()"
   ]
  },
  {
   "cell_type": "markdown",
   "id": "d299cf27",
   "metadata": {},
   "source": [
    "- Vemos que los valores de la puntuacion de los criticos van del 0 al 100 "
   ]
  },
  {
   "cell_type": "code",
   "execution_count": 131,
   "id": "eb8e3b09",
   "metadata": {},
   "outputs": [
    {
     "data": {
      "text/plain": [
       "array(['8', nan, '8.3', '8.5', '6.6', '8.4', '8.6', '7.7', '6.3', '7.4',\n",
       "       '8.2', '9', '7.9', '8.1', '8.7', '7.1', '3.4', '5.3', '4.8', '3.2',\n",
       "       '8.9', '6.4', '7.8', '7.5', '2.6', '7.2', '9.2', '7', '7.3', '4.3',\n",
       "       '7.6', '5.7', '5', '9.1', '6.5', 'tbd', '8.8', '6.9', '9.4', '6.8',\n",
       "       '6.1', '6.7', '5.4', '4', '4.9', '4.5', '9.3', '6.2', '4.2', '6',\n",
       "       '3.7', '4.1', '5.8', '5.6', '5.5', '4.4', '4.6', '5.9', '3.9',\n",
       "       '3.1', '2.9', '5.2', '3.3', '4.7', '5.1', '3.5', '2.5', '1.9', '3',\n",
       "       '2.7', '2.2', '2', '9.5', '2.1', '3.6', '2.8', '1.8', '3.8', '0',\n",
       "       '1.6', '9.6', '2.4', '1.7', '1.1', '0.3', '1.5', '0.7', '1.2',\n",
       "       '2.3', '0.5', '1.3', '0.2', '0.6', '1.4', '0.9', '1', '9.7'],\n",
       "      dtype=object)"
      ]
     },
     "execution_count": 131,
     "metadata": {},
     "output_type": "execute_result"
    }
   ],
   "source": [
    "#vemos los valores unicos de la columna User_Score tenemos que existe un valor string llamado tdb\n",
    "df_games['User_Score'].unique()"
   ]
  },
  {
   "cell_type": "markdown",
   "id": "6bdf73ad",
   "metadata": {},
   "source": [
    "- Vemos que los valores del puntuacion de los usuarios va de 1 a 10 a diferencia que la de los criticos, vamos a ponerlos de 0 100 tambien. "
   ]
  },
  {
   "cell_type": "markdown",
   "id": "6eb84eab",
   "metadata": {},
   "source": [
    "## Paso 2. Procesamiento de datos \n"
   ]
  },
  {
   "cell_type": "markdown",
   "id": "632e2636",
   "metadata": {},
   "source": [
    "Ya revisando los datos del dataset comenzamos a preparar y pulir los datos.\n",
    "Se observa que el nombre de las columnas estan en mayusculas y minisculas. Y que algunos tipos de datos de las columnas estan erroneos vamos corregirlos."
   ]
  },
  {
   "cell_type": "code",
   "execution_count": 132,
   "id": "4e4a2a25",
   "metadata": {},
   "outputs": [],
   "source": [
    "#2.1. Cambiar a minusculas el nombre de las columnas\n",
    "df_games.columns = [x.lower() for x in df_games.columns]"
   ]
  },
  {
   "cell_type": "code",
   "execution_count": 133,
   "id": "d606c09d",
   "metadata": {},
   "outputs": [
    {
     "data": {
      "text/plain": [
       "Index(['name', 'platform', 'year_of_release', 'genre', 'na_sales', 'eu_sales',\n",
       "       'jp_sales', 'other_sales', 'critic_score', 'user_score', 'rating'],\n",
       "      dtype='object')"
      ]
     },
     "execution_count": 133,
     "metadata": {},
     "output_type": "execute_result"
    }
   ],
   "source": [
    "#vemos si se cambiaron a minusculas\n",
    "df_games.columns"
   ]
  },
  {
   "cell_type": "markdown",
   "id": "f1bd4383",
   "metadata": {},
   "source": [
    "Le damos snake cases a la columna name"
   ]
  },
  {
   "cell_type": "code",
   "execution_count": 134,
   "id": "0ab77161",
   "metadata": {},
   "outputs": [],
   "source": [
    "#cambios a minusculas el nombre de los juegos  \n",
    "df_games['name'] = df_games['name'].str.lower()\n",
    "#Quitamos puntos o comas\n",
    "df_games['name'] = df_games['name'].str.replace(\".\",\"\").replace(\",\",\"\")\n"
   ]
  },
  {
   "cell_type": "code",
   "execution_count": 135,
   "id": "cf727617",
   "metadata": {},
   "outputs": [
    {
     "data": {
      "text/plain": [
       "0                           wii sports\n",
       "1                     super mario bros\n",
       "2                       mario kart wii\n",
       "3                    wii sports resort\n",
       "4             pokemon red/pokemon blue\n",
       "                     ...              \n",
       "16710    samurai warriors: sanada maru\n",
       "16711                 lma manager 2007\n",
       "16712          haitaka no psychedelica\n",
       "16713                 spirits & spells\n",
       "16714              winning post 8 2016\n",
       "Name: name, Length: 16715, dtype: object"
      ]
     },
     "execution_count": 135,
     "metadata": {},
     "output_type": "execute_result"
    }
   ],
   "source": [
    "df_games['name']"
   ]
  },
  {
   "cell_type": "code",
   "execution_count": 136,
   "id": "f76eff64",
   "metadata": {},
   "outputs": [
    {
     "data": {
      "application/vnd.microsoft.datawrangler.viewer.v0+json": {
       "columns": [
        {
         "name": "index",
         "rawType": "int64",
         "type": "integer"
        },
        {
         "name": "name",
         "rawType": "object",
         "type": "unknown"
        },
        {
         "name": "platform",
         "rawType": "object",
         "type": "string"
        },
        {
         "name": "year_of_release",
         "rawType": "float64",
         "type": "float"
        },
        {
         "name": "genre",
         "rawType": "object",
         "type": "unknown"
        },
        {
         "name": "na_sales",
         "rawType": "float64",
         "type": "float"
        },
        {
         "name": "eu_sales",
         "rawType": "float64",
         "type": "float"
        },
        {
         "name": "jp_sales",
         "rawType": "float64",
         "type": "float"
        },
        {
         "name": "other_sales",
         "rawType": "float64",
         "type": "float"
        },
        {
         "name": "critic_score",
         "rawType": "float64",
         "type": "float"
        },
        {
         "name": "user_score",
         "rawType": "object",
         "type": "unknown"
        },
        {
         "name": "rating",
         "rawType": "object",
         "type": "unknown"
        }
       ],
       "conversionMethod": "pd.DataFrame",
       "ref": "c5e0c6b4-13e1-4952-ac0b-c130188a119f",
       "rows": [
        [
         "659",
         null,
         "GEN",
         "1993.0",
         null,
         "1.78",
         "0.53",
         "0.0",
         "0.08",
         null,
         null,
         null
        ],
        [
         "14244",
         null,
         "GEN",
         "1993.0",
         null,
         "0.0",
         "0.0",
         "0.03",
         "0.0",
         null,
         null,
         null
        ]
       ],
       "shape": {
        "columns": 11,
        "rows": 2
       }
      },
      "text/html": [
       "<div>\n",
       "<style scoped>\n",
       "    .dataframe tbody tr th:only-of-type {\n",
       "        vertical-align: middle;\n",
       "    }\n",
       "\n",
       "    .dataframe tbody tr th {\n",
       "        vertical-align: top;\n",
       "    }\n",
       "\n",
       "    .dataframe thead th {\n",
       "        text-align: right;\n",
       "    }\n",
       "</style>\n",
       "<table border=\"1\" class=\"dataframe\">\n",
       "  <thead>\n",
       "    <tr style=\"text-align: right;\">\n",
       "      <th></th>\n",
       "      <th>name</th>\n",
       "      <th>platform</th>\n",
       "      <th>year_of_release</th>\n",
       "      <th>genre</th>\n",
       "      <th>na_sales</th>\n",
       "      <th>eu_sales</th>\n",
       "      <th>jp_sales</th>\n",
       "      <th>other_sales</th>\n",
       "      <th>critic_score</th>\n",
       "      <th>user_score</th>\n",
       "      <th>rating</th>\n",
       "    </tr>\n",
       "  </thead>\n",
       "  <tbody>\n",
       "    <tr>\n",
       "      <th>659</th>\n",
       "      <td>NaN</td>\n",
       "      <td>GEN</td>\n",
       "      <td>1993.0</td>\n",
       "      <td>NaN</td>\n",
       "      <td>1.78</td>\n",
       "      <td>0.53</td>\n",
       "      <td>0.00</td>\n",
       "      <td>0.08</td>\n",
       "      <td>NaN</td>\n",
       "      <td>NaN</td>\n",
       "      <td>NaN</td>\n",
       "    </tr>\n",
       "    <tr>\n",
       "      <th>14244</th>\n",
       "      <td>NaN</td>\n",
       "      <td>GEN</td>\n",
       "      <td>1993.0</td>\n",
       "      <td>NaN</td>\n",
       "      <td>0.00</td>\n",
       "      <td>0.00</td>\n",
       "      <td>0.03</td>\n",
       "      <td>0.00</td>\n",
       "      <td>NaN</td>\n",
       "      <td>NaN</td>\n",
       "      <td>NaN</td>\n",
       "    </tr>\n",
       "  </tbody>\n",
       "</table>\n",
       "</div>"
      ],
      "text/plain": [
       "      name platform  year_of_release genre  na_sales  eu_sales  jp_sales  \\\n",
       "659    NaN      GEN           1993.0   NaN      1.78      0.53      0.00   \n",
       "14244  NaN      GEN           1993.0   NaN      0.00      0.00      0.03   \n",
       "\n",
       "       other_sales  critic_score user_score rating  \n",
       "659           0.08           NaN        NaN    NaN  \n",
       "14244         0.00           NaN        NaN    NaN  "
      ]
     },
     "execution_count": 136,
     "metadata": {},
     "output_type": "execute_result"
    }
   ],
   "source": [
    "#vemos los 2 valores perdidos de la columna name\n",
    "df_games[df_games['name'].isna()]"
   ]
  },
  {
   "cell_type": "code",
   "execution_count": 137,
   "id": "20971d15",
   "metadata": {},
   "outputs": [],
   "source": [
    "#vamos a renombrar esos valors perdidos por no_definido\n",
    "df_games['name'] = df_games['name'].fillna('no_definido')"
   ]
  },
  {
   "cell_type": "markdown",
   "id": "73836c5e",
   "metadata": {},
   "source": [
    "Vamos agrupar los nombres de las plataformas ya que son muchas y solo tendremos 5 grandes Grupos"
   ]
  },
  {
   "cell_type": "code",
   "execution_count": 138,
   "id": "710b3c96",
   "metadata": {},
   "outputs": [],
   "source": [
    "#Agrupamos los nombres de las columnas\n",
    "#Hacemos una funcion para  agrupar\n",
    "def agrupar_plat (x):\n",
    "    if x in ['Wii','GB','GC','DS','WiiU','NES','SNES','GBA','3DS','N64']:\n",
    "        return 'nintendo'\n",
    "    elif x in ['X360','XB','XOne']:\n",
    "        return 'xbox'\n",
    "    elif x in ['PS3','PS2','PS','PSP','PS4','PSV']:\n",
    "        return 'play'\n",
    "    elif x in ['PC','PCFX']:\n",
    "        return 'pc'\n",
    "    else:\n",
    "        return 'otros'\n"
   ]
  },
  {
   "cell_type": "code",
   "execution_count": 139,
   "id": "4405829d",
   "metadata": {},
   "outputs": [],
   "source": [
    "#Aplicamos la funcion para crear la columna agrupacion\n",
    "df_games['group_plat'] = df_games['platform'].apply(agrupar_plat)"
   ]
  },
  {
   "cell_type": "code",
   "execution_count": 140,
   "id": "2a235b2b",
   "metadata": {},
   "outputs": [
    {
     "data": {
      "application/vnd.microsoft.datawrangler.viewer.v0+json": {
       "columns": [
        {
         "name": "index",
         "rawType": "int64",
         "type": "integer"
        },
        {
         "name": "name",
         "rawType": "object",
         "type": "string"
        },
        {
         "name": "platform",
         "rawType": "object",
         "type": "string"
        },
        {
         "name": "year_of_release",
         "rawType": "float64",
         "type": "float"
        },
        {
         "name": "genre",
         "rawType": "object",
         "type": "string"
        },
        {
         "name": "na_sales",
         "rawType": "float64",
         "type": "float"
        },
        {
         "name": "eu_sales",
         "rawType": "float64",
         "type": "float"
        },
        {
         "name": "jp_sales",
         "rawType": "float64",
         "type": "float"
        },
        {
         "name": "other_sales",
         "rawType": "float64",
         "type": "float"
        },
        {
         "name": "critic_score",
         "rawType": "float64",
         "type": "float"
        },
        {
         "name": "user_score",
         "rawType": "object",
         "type": "unknown"
        },
        {
         "name": "rating",
         "rawType": "object",
         "type": "unknown"
        },
        {
         "name": "group_plat",
         "rawType": "object",
         "type": "string"
        }
       ],
       "conversionMethod": "pd.DataFrame",
       "ref": "6014c63d-647c-49b5-b4dd-fb7f4f573ebf",
       "rows": [
        [
         "2761",
         "midnight club 3: dub edition",
         "XB",
         "2005.0",
         "Racing",
         "0.61",
         "0.1",
         "0.0",
         "0.03",
         "84.0",
         "7.4",
         "E10+",
         "xbox"
        ],
        [
         "14302",
         "casino chaos with las vegas players collection",
         "PC",
         "2011.0",
         "Misc",
         "0.03",
         "0.0",
         "0.0",
         "0.0",
         null,
         "tbd",
         "T",
         "pc"
        ],
        [
         "6340",
         "stuntman: ignition",
         "PS2",
         "2007.0",
         "Racing",
         "0.13",
         "0.1",
         "0.0",
         "0.03",
         "71.0",
         "6.4",
         "T",
         "play"
        ],
        [
         "9207",
         "transformers: devastation",
         "XOne",
         "2015.0",
         "Action",
         "0.09",
         "0.04",
         "0.0",
         "0.01",
         "75.0",
         "7.9",
         "T",
         "xbox"
        ],
        [
         "5894",
         "dynasty warriors 8: xtreme legends",
         "PS4",
         "2014.0",
         "Action",
         "0.09",
         "0.11",
         "0.06",
         "0.04",
         null,
         null,
         null,
         "play"
        ]
       ],
       "shape": {
        "columns": 12,
        "rows": 5
       }
      },
      "text/html": [
       "<div>\n",
       "<style scoped>\n",
       "    .dataframe tbody tr th:only-of-type {\n",
       "        vertical-align: middle;\n",
       "    }\n",
       "\n",
       "    .dataframe tbody tr th {\n",
       "        vertical-align: top;\n",
       "    }\n",
       "\n",
       "    .dataframe thead th {\n",
       "        text-align: right;\n",
       "    }\n",
       "</style>\n",
       "<table border=\"1\" class=\"dataframe\">\n",
       "  <thead>\n",
       "    <tr style=\"text-align: right;\">\n",
       "      <th></th>\n",
       "      <th>name</th>\n",
       "      <th>platform</th>\n",
       "      <th>year_of_release</th>\n",
       "      <th>genre</th>\n",
       "      <th>na_sales</th>\n",
       "      <th>eu_sales</th>\n",
       "      <th>jp_sales</th>\n",
       "      <th>other_sales</th>\n",
       "      <th>critic_score</th>\n",
       "      <th>user_score</th>\n",
       "      <th>rating</th>\n",
       "      <th>group_plat</th>\n",
       "    </tr>\n",
       "  </thead>\n",
       "  <tbody>\n",
       "    <tr>\n",
       "      <th>2761</th>\n",
       "      <td>midnight club 3: dub edition</td>\n",
       "      <td>XB</td>\n",
       "      <td>2005.0</td>\n",
       "      <td>Racing</td>\n",
       "      <td>0.61</td>\n",
       "      <td>0.10</td>\n",
       "      <td>0.00</td>\n",
       "      <td>0.03</td>\n",
       "      <td>84.0</td>\n",
       "      <td>7.4</td>\n",
       "      <td>E10+</td>\n",
       "      <td>xbox</td>\n",
       "    </tr>\n",
       "    <tr>\n",
       "      <th>14302</th>\n",
       "      <td>casino chaos with las vegas players collection</td>\n",
       "      <td>PC</td>\n",
       "      <td>2011.0</td>\n",
       "      <td>Misc</td>\n",
       "      <td>0.03</td>\n",
       "      <td>0.00</td>\n",
       "      <td>0.00</td>\n",
       "      <td>0.00</td>\n",
       "      <td>NaN</td>\n",
       "      <td>tbd</td>\n",
       "      <td>T</td>\n",
       "      <td>pc</td>\n",
       "    </tr>\n",
       "    <tr>\n",
       "      <th>6340</th>\n",
       "      <td>stuntman: ignition</td>\n",
       "      <td>PS2</td>\n",
       "      <td>2007.0</td>\n",
       "      <td>Racing</td>\n",
       "      <td>0.13</td>\n",
       "      <td>0.10</td>\n",
       "      <td>0.00</td>\n",
       "      <td>0.03</td>\n",
       "      <td>71.0</td>\n",
       "      <td>6.4</td>\n",
       "      <td>T</td>\n",
       "      <td>play</td>\n",
       "    </tr>\n",
       "    <tr>\n",
       "      <th>9207</th>\n",
       "      <td>transformers: devastation</td>\n",
       "      <td>XOne</td>\n",
       "      <td>2015.0</td>\n",
       "      <td>Action</td>\n",
       "      <td>0.09</td>\n",
       "      <td>0.04</td>\n",
       "      <td>0.00</td>\n",
       "      <td>0.01</td>\n",
       "      <td>75.0</td>\n",
       "      <td>7.9</td>\n",
       "      <td>T</td>\n",
       "      <td>xbox</td>\n",
       "    </tr>\n",
       "    <tr>\n",
       "      <th>5894</th>\n",
       "      <td>dynasty warriors 8: xtreme legends</td>\n",
       "      <td>PS4</td>\n",
       "      <td>2014.0</td>\n",
       "      <td>Action</td>\n",
       "      <td>0.09</td>\n",
       "      <td>0.11</td>\n",
       "      <td>0.06</td>\n",
       "      <td>0.04</td>\n",
       "      <td>NaN</td>\n",
       "      <td>NaN</td>\n",
       "      <td>NaN</td>\n",
       "      <td>play</td>\n",
       "    </tr>\n",
       "  </tbody>\n",
       "</table>\n",
       "</div>"
      ],
      "text/plain": [
       "                                                 name platform  \\\n",
       "2761                     midnight club 3: dub edition       XB   \n",
       "14302  casino chaos with las vegas players collection       PC   \n",
       "6340                               stuntman: ignition      PS2   \n",
       "9207                        transformers: devastation     XOne   \n",
       "5894               dynasty warriors 8: xtreme legends      PS4   \n",
       "\n",
       "       year_of_release   genre  na_sales  eu_sales  jp_sales  other_sales  \\\n",
       "2761            2005.0  Racing      0.61      0.10      0.00         0.03   \n",
       "14302           2011.0    Misc      0.03      0.00      0.00         0.00   \n",
       "6340            2007.0  Racing      0.13      0.10      0.00         0.03   \n",
       "9207            2015.0  Action      0.09      0.04      0.00         0.01   \n",
       "5894            2014.0  Action      0.09      0.11      0.06         0.04   \n",
       "\n",
       "       critic_score user_score rating group_plat  \n",
       "2761           84.0        7.4   E10+       xbox  \n",
       "14302           NaN        tbd      T         pc  \n",
       "6340           71.0        6.4      T       play  \n",
       "9207           75.0        7.9      T       xbox  \n",
       "5894            NaN        NaN    NaN       play  "
      ]
     },
     "execution_count": 140,
     "metadata": {},
     "output_type": "execute_result"
    }
   ],
   "source": [
    "df_games.sample(5)"
   ]
  },
  {
   "cell_type": "code",
   "execution_count": 141,
   "id": "fa68e04f",
   "metadata": {},
   "outputs": [
    {
     "data": {
      "text/plain": [
       "group_plat\n",
       "play        6720\n",
       "nintendo    6270\n",
       "xbox        2333\n",
       "pc           975\n",
       "otros        417\n",
       "Name: count, dtype: int64"
      ]
     },
     "execution_count": 141,
     "metadata": {},
     "output_type": "execute_result"
    }
   ],
   "source": [
    "df_games['group_plat'].value_counts()"
   ]
  },
  {
   "cell_type": "markdown",
   "id": "dc755da0",
   "metadata": {},
   "source": [
    "#### 2.4.3 Presta atención a la abreviatura TDB: Significa \"to be determined\" (a determinar). Especificar como piensas manejar estos casos."
   ]
  },
  {
   "cell_type": "markdown",
   "id": "35d6c609",
   "metadata": {},
   "source": [
    "Para todos los casos \"tbd\", vamos a cambiarlos por un valor perdido NAN, para con esto poder cambiar el tipo de dato de la columna a float"
   ]
  },
  {
   "cell_type": "code",
   "execution_count": 142,
   "id": "bf75d7f0",
   "metadata": {},
   "outputs": [],
   "source": [
    "#Cambiar el caso de tbd por un valor numerico perdido con np.nan\n",
    "df_games.loc[df_games['user_score']== 'tbd','user_score'] = np.nan"
   ]
  },
  {
   "cell_type": "code",
   "execution_count": 143,
   "id": "e6c273dc",
   "metadata": {},
   "outputs": [],
   "source": [
    "#vamos a cambiar el tipo de datos a float y lo multiplicamos por 10 para que este homogeneo con los datos de critic_score\n",
    "df_games['user_score'] = df_games['user_score'].astype(float)*10"
   ]
  },
  {
   "cell_type": "code",
   "execution_count": 144,
   "id": "32507d35",
   "metadata": {},
   "outputs": [
    {
     "name": "stdout",
     "output_type": "stream",
     "text": [
      "<class 'pandas.core.frame.DataFrame'>\n",
      "RangeIndex: 16715 entries, 0 to 16714\n",
      "Data columns (total 12 columns):\n",
      " #   Column           Non-Null Count  Dtype  \n",
      "---  ------           --------------  -----  \n",
      " 0   name             16715 non-null  object \n",
      " 1   platform         16715 non-null  object \n",
      " 2   year_of_release  16446 non-null  float64\n",
      " 3   genre            16713 non-null  object \n",
      " 4   na_sales         16715 non-null  float64\n",
      " 5   eu_sales         16715 non-null  float64\n",
      " 6   jp_sales         16715 non-null  float64\n",
      " 7   other_sales      16715 non-null  float64\n",
      " 8   critic_score     8137 non-null   float64\n",
      " 9   user_score       7590 non-null   float64\n",
      " 10  rating           9949 non-null   object \n",
      " 11  group_plat       16715 non-null  object \n",
      "dtypes: float64(7), object(5)\n",
      "memory usage: 1.5+ MB\n"
     ]
    }
   ],
   "source": [
    "df_games.info()"
   ]
  },
  {
   "cell_type": "code",
   "execution_count": 145,
   "id": "f773cad9",
   "metadata": {},
   "outputs": [
    {
     "data": {
      "application/vnd.microsoft.datawrangler.viewer.v0+json": {
       "columns": [
        {
         "name": "index",
         "rawType": "int64",
         "type": "integer"
        },
        {
         "name": "name",
         "rawType": "object",
         "type": "string"
        },
        {
         "name": "platform",
         "rawType": "object",
         "type": "string"
        },
        {
         "name": "year_of_release",
         "rawType": "float64",
         "type": "float"
        },
        {
         "name": "genre",
         "rawType": "object",
         "type": "string"
        },
        {
         "name": "na_sales",
         "rawType": "float64",
         "type": "float"
        },
        {
         "name": "eu_sales",
         "rawType": "float64",
         "type": "float"
        },
        {
         "name": "jp_sales",
         "rawType": "float64",
         "type": "float"
        },
        {
         "name": "other_sales",
         "rawType": "float64",
         "type": "float"
        },
        {
         "name": "critic_score",
         "rawType": "float64",
         "type": "float"
        },
        {
         "name": "user_score",
         "rawType": "float64",
         "type": "float"
        },
        {
         "name": "rating",
         "rawType": "object",
         "type": "unknown"
        },
        {
         "name": "group_plat",
         "rawType": "object",
         "type": "string"
        }
       ],
       "conversionMethod": "pd.DataFrame",
       "ref": "56780069-0c22-449b-85c8-1bd710556187",
       "rows": [
        [
         "13068",
         "dodonpachi resurrection",
         "X360",
         "2010.0",
         "Shooter",
         "0.0",
         "0.04",
         "0.0",
         "0.01",
         "77.0",
         "86.0",
         null,
         "xbox"
        ],
        [
         "2878",
         "scooby-doo 2: monsters unleashed",
         "GBA",
         "2004.0",
         "Action",
         "0.51",
         "0.19",
         "0.0",
         "0.01",
         "46.0",
         null,
         "E",
         "nintendo"
        ],
        [
         "172",
         "dr mario",
         "GB",
         "1989.0",
         "Puzzle",
         "2.18",
         "0.96",
         "2.0",
         "0.2",
         null,
         null,
         null,
         "nintendo"
        ],
        [
         "8889",
         "the incredibles: rise of the underminer",
         "DS",
         "2005.0",
         "Action",
         "0.13",
         "0.01",
         "0.0",
         "0.01",
         "54.0",
         null,
         "E10+",
         "nintendo"
        ],
        [
         "12062",
         "trick ds-han: kakushi kami no sumukan",
         "DS",
         "2010.0",
         "Misc",
         "0.0",
         "0.0",
         "0.07",
         "0.0",
         null,
         null,
         null,
         "nintendo"
        ]
       ],
       "shape": {
        "columns": 12,
        "rows": 5
       }
      },
      "text/html": [
       "<div>\n",
       "<style scoped>\n",
       "    .dataframe tbody tr th:only-of-type {\n",
       "        vertical-align: middle;\n",
       "    }\n",
       "\n",
       "    .dataframe tbody tr th {\n",
       "        vertical-align: top;\n",
       "    }\n",
       "\n",
       "    .dataframe thead th {\n",
       "        text-align: right;\n",
       "    }\n",
       "</style>\n",
       "<table border=\"1\" class=\"dataframe\">\n",
       "  <thead>\n",
       "    <tr style=\"text-align: right;\">\n",
       "      <th></th>\n",
       "      <th>name</th>\n",
       "      <th>platform</th>\n",
       "      <th>year_of_release</th>\n",
       "      <th>genre</th>\n",
       "      <th>na_sales</th>\n",
       "      <th>eu_sales</th>\n",
       "      <th>jp_sales</th>\n",
       "      <th>other_sales</th>\n",
       "      <th>critic_score</th>\n",
       "      <th>user_score</th>\n",
       "      <th>rating</th>\n",
       "      <th>group_plat</th>\n",
       "    </tr>\n",
       "  </thead>\n",
       "  <tbody>\n",
       "    <tr>\n",
       "      <th>13068</th>\n",
       "      <td>dodonpachi resurrection</td>\n",
       "      <td>X360</td>\n",
       "      <td>2010.0</td>\n",
       "      <td>Shooter</td>\n",
       "      <td>0.00</td>\n",
       "      <td>0.04</td>\n",
       "      <td>0.00</td>\n",
       "      <td>0.01</td>\n",
       "      <td>77.0</td>\n",
       "      <td>86.0</td>\n",
       "      <td>NaN</td>\n",
       "      <td>xbox</td>\n",
       "    </tr>\n",
       "    <tr>\n",
       "      <th>2878</th>\n",
       "      <td>scooby-doo 2: monsters unleashed</td>\n",
       "      <td>GBA</td>\n",
       "      <td>2004.0</td>\n",
       "      <td>Action</td>\n",
       "      <td>0.51</td>\n",
       "      <td>0.19</td>\n",
       "      <td>0.00</td>\n",
       "      <td>0.01</td>\n",
       "      <td>46.0</td>\n",
       "      <td>NaN</td>\n",
       "      <td>E</td>\n",
       "      <td>nintendo</td>\n",
       "    </tr>\n",
       "    <tr>\n",
       "      <th>172</th>\n",
       "      <td>dr mario</td>\n",
       "      <td>GB</td>\n",
       "      <td>1989.0</td>\n",
       "      <td>Puzzle</td>\n",
       "      <td>2.18</td>\n",
       "      <td>0.96</td>\n",
       "      <td>2.00</td>\n",
       "      <td>0.20</td>\n",
       "      <td>NaN</td>\n",
       "      <td>NaN</td>\n",
       "      <td>NaN</td>\n",
       "      <td>nintendo</td>\n",
       "    </tr>\n",
       "    <tr>\n",
       "      <th>8889</th>\n",
       "      <td>the incredibles: rise of the underminer</td>\n",
       "      <td>DS</td>\n",
       "      <td>2005.0</td>\n",
       "      <td>Action</td>\n",
       "      <td>0.13</td>\n",
       "      <td>0.01</td>\n",
       "      <td>0.00</td>\n",
       "      <td>0.01</td>\n",
       "      <td>54.0</td>\n",
       "      <td>NaN</td>\n",
       "      <td>E10+</td>\n",
       "      <td>nintendo</td>\n",
       "    </tr>\n",
       "    <tr>\n",
       "      <th>12062</th>\n",
       "      <td>trick ds-han: kakushi kami no sumukan</td>\n",
       "      <td>DS</td>\n",
       "      <td>2010.0</td>\n",
       "      <td>Misc</td>\n",
       "      <td>0.00</td>\n",
       "      <td>0.00</td>\n",
       "      <td>0.07</td>\n",
       "      <td>0.00</td>\n",
       "      <td>NaN</td>\n",
       "      <td>NaN</td>\n",
       "      <td>NaN</td>\n",
       "      <td>nintendo</td>\n",
       "    </tr>\n",
       "  </tbody>\n",
       "</table>\n",
       "</div>"
      ],
      "text/plain": [
       "                                          name platform  year_of_release  \\\n",
       "13068                  dodonpachi resurrection     X360           2010.0   \n",
       "2878          scooby-doo 2: monsters unleashed      GBA           2004.0   \n",
       "172                                   dr mario       GB           1989.0   \n",
       "8889   the incredibles: rise of the underminer       DS           2005.0   \n",
       "12062    trick ds-han: kakushi kami no sumukan       DS           2010.0   \n",
       "\n",
       "         genre  na_sales  eu_sales  jp_sales  other_sales  critic_score  \\\n",
       "13068  Shooter      0.00      0.04      0.00         0.01          77.0   \n",
       "2878    Action      0.51      0.19      0.00         0.01          46.0   \n",
       "172     Puzzle      2.18      0.96      2.00         0.20           NaN   \n",
       "8889    Action      0.13      0.01      0.00         0.01          54.0   \n",
       "12062     Misc      0.00      0.00      0.07         0.00           NaN   \n",
       "\n",
       "       user_score rating group_plat  \n",
       "13068        86.0    NaN       xbox  \n",
       "2878          NaN      E   nintendo  \n",
       "172           NaN    NaN   nintendo  \n",
       "8889          NaN   E10+   nintendo  \n",
       "12062         NaN    NaN   nintendo  "
      ]
     },
     "execution_count": 145,
     "metadata": {},
     "output_type": "execute_result"
    }
   ],
   "source": [
    "df_games.sample(5)"
   ]
  },
  {
   "cell_type": "code",
   "execution_count": 146,
   "id": "e8426fe4",
   "metadata": {},
   "outputs": [
    {
     "data": {
      "application/vnd.microsoft.datawrangler.viewer.v0+json": {
       "columns": [
        {
         "name": "index",
         "rawType": "int64",
         "type": "integer"
        },
        {
         "name": "name",
         "rawType": "object",
         "type": "string"
        },
        {
         "name": "platform",
         "rawType": "object",
         "type": "string"
        },
        {
         "name": "year_of_release",
         "rawType": "float64",
         "type": "float"
        },
        {
         "name": "genre",
         "rawType": "object",
         "type": "unknown"
        },
        {
         "name": "na_sales",
         "rawType": "float64",
         "type": "float"
        },
        {
         "name": "eu_sales",
         "rawType": "float64",
         "type": "float"
        },
        {
         "name": "jp_sales",
         "rawType": "float64",
         "type": "float"
        },
        {
         "name": "other_sales",
         "rawType": "float64",
         "type": "float"
        },
        {
         "name": "critic_score",
         "rawType": "float64",
         "type": "float"
        },
        {
         "name": "user_score",
         "rawType": "float64",
         "type": "float"
        },
        {
         "name": "rating",
         "rawType": "object",
         "type": "unknown"
        },
        {
         "name": "group_plat",
         "rawType": "object",
         "type": "string"
        }
       ],
       "conversionMethod": "pd.DataFrame",
       "ref": "89d23829-7772-4867-b039-ccc672d85470",
       "rows": [
        [
         "14244",
         "no_definido",
         "GEN",
         "1993.0",
         null,
         "0.0",
         "0.0",
         "0.03",
         "0.0",
         null,
         null,
         null,
         "otros"
        ],
        [
         "16230",
         "madden nfl 13",
         "PS3",
         "2012.0",
         "Sports",
         "0.0",
         "0.01",
         "0.0",
         "0.0",
         "83.0",
         "55.0",
         "E",
         "play"
        ]
       ],
       "shape": {
        "columns": 12,
        "rows": 2
       }
      },
      "text/html": [
       "<div>\n",
       "<style scoped>\n",
       "    .dataframe tbody tr th:only-of-type {\n",
       "        vertical-align: middle;\n",
       "    }\n",
       "\n",
       "    .dataframe tbody tr th {\n",
       "        vertical-align: top;\n",
       "    }\n",
       "\n",
       "    .dataframe thead th {\n",
       "        text-align: right;\n",
       "    }\n",
       "</style>\n",
       "<table border=\"1\" class=\"dataframe\">\n",
       "  <thead>\n",
       "    <tr style=\"text-align: right;\">\n",
       "      <th></th>\n",
       "      <th>name</th>\n",
       "      <th>platform</th>\n",
       "      <th>year_of_release</th>\n",
       "      <th>genre</th>\n",
       "      <th>na_sales</th>\n",
       "      <th>eu_sales</th>\n",
       "      <th>jp_sales</th>\n",
       "      <th>other_sales</th>\n",
       "      <th>critic_score</th>\n",
       "      <th>user_score</th>\n",
       "      <th>rating</th>\n",
       "      <th>group_plat</th>\n",
       "    </tr>\n",
       "  </thead>\n",
       "  <tbody>\n",
       "    <tr>\n",
       "      <th>14244</th>\n",
       "      <td>no_definido</td>\n",
       "      <td>GEN</td>\n",
       "      <td>1993.0</td>\n",
       "      <td>NaN</td>\n",
       "      <td>0.0</td>\n",
       "      <td>0.00</td>\n",
       "      <td>0.03</td>\n",
       "      <td>0.0</td>\n",
       "      <td>NaN</td>\n",
       "      <td>NaN</td>\n",
       "      <td>NaN</td>\n",
       "      <td>otros</td>\n",
       "    </tr>\n",
       "    <tr>\n",
       "      <th>16230</th>\n",
       "      <td>madden nfl 13</td>\n",
       "      <td>PS3</td>\n",
       "      <td>2012.0</td>\n",
       "      <td>Sports</td>\n",
       "      <td>0.0</td>\n",
       "      <td>0.01</td>\n",
       "      <td>0.00</td>\n",
       "      <td>0.0</td>\n",
       "      <td>83.0</td>\n",
       "      <td>55.0</td>\n",
       "      <td>E</td>\n",
       "      <td>play</td>\n",
       "    </tr>\n",
       "  </tbody>\n",
       "</table>\n",
       "</div>"
      ],
      "text/plain": [
       "                name platform  year_of_release   genre  na_sales  eu_sales  \\\n",
       "14244    no_definido      GEN           1993.0     NaN       0.0      0.00   \n",
       "16230  madden nfl 13      PS3           2012.0  Sports       0.0      0.01   \n",
       "\n",
       "       jp_sales  other_sales  critic_score  user_score rating group_plat  \n",
       "14244      0.03          0.0           NaN         NaN    NaN      otros  \n",
       "16230      0.00          0.0          83.0        55.0      E       play  "
      ]
     },
     "execution_count": 146,
     "metadata": {},
     "output_type": "execute_result"
    }
   ],
   "source": [
    "#Revisar si hay duplicados \n",
    "df_games[df_games[['name','platform','year_of_release']].duplicated()]"
   ]
  },
  {
   "cell_type": "code",
   "execution_count": 147,
   "id": "5c668413",
   "metadata": {},
   "outputs": [],
   "source": [
    "#Eliminamos duplicados con dropduplicates y subset\n",
    "df_games = df_games.drop_duplicates(subset= ['name','platform','year_of_release']).reset_index(drop=True)"
   ]
  },
  {
   "cell_type": "code",
   "execution_count": 148,
   "id": "ee7d8262",
   "metadata": {},
   "outputs": [
    {
     "data": {
      "text/plain": [
       "name                  0\n",
       "platform              0\n",
       "year_of_release     269\n",
       "genre                 1\n",
       "na_sales              0\n",
       "eu_sales              0\n",
       "jp_sales              0\n",
       "other_sales           0\n",
       "critic_score       8577\n",
       "user_score         9124\n",
       "rating             6765\n",
       "group_plat            0\n",
       "dtype: int64"
      ]
     },
     "execution_count": 148,
     "metadata": {},
     "output_type": "execute_result"
    }
   ],
   "source": [
    "df_games.isna().sum()"
   ]
  },
  {
   "cell_type": "markdown",
   "id": "f9db5bff",
   "metadata": {},
   "source": []
  },
  {
   "cell_type": "markdown",
   "id": "aae187a4",
   "metadata": {},
   "source": [
    "Se eliminaron los valores ausentes de la columna year_of_release ya que estos corresponden al 2% de los valores se uso el metodo dropna junto con subset y se selecciono la columna year_of_release para eliminar los valores perdidos de esta columna."
   ]
  },
  {
   "cell_type": "code",
   "execution_count": 149,
   "id": "a7655ffb",
   "metadata": {},
   "outputs": [],
   "source": [
    "#vamos a eliminar los valores perdidos de year of ya que representa el 2 % de los datos\n",
    "df_games_clean = df_games.dropna(subset= ['year_of_release'])"
   ]
  },
  {
   "cell_type": "code",
   "execution_count": 150,
   "id": "1cc4b92f",
   "metadata": {},
   "outputs": [
    {
     "name": "stderr",
     "output_type": "stream",
     "text": [
      "C:\\Users\\sistemas\\AppData\\Local\\Temp\\ipykernel_8180\\2433759101.py:2: SettingWithCopyWarning: \n",
      "A value is trying to be set on a copy of a slice from a DataFrame.\n",
      "Try using .loc[row_indexer,col_indexer] = value instead\n",
      "\n",
      "See the caveats in the documentation: https://pandas.pydata.org/pandas-docs/stable/user_guide/indexing.html#returning-a-view-versus-a-copy\n",
      "  df_games_clean['year_of_release'] = df_games_clean['year_of_release'].astype(int)\n"
     ]
    }
   ],
   "source": [
    "#Vamos a convertir el tipo de dato de la columna year_of_release a int\n",
    "df_games_clean['year_of_release'] = df_games_clean['year_of_release'].astype(int)"
   ]
  },
  {
   "cell_type": "markdown",
   "id": "8aaa9dee",
   "metadata": {},
   "source": [
    "#### 2.5. Calcula las ventas totales(La suma de las ventas en todas las regiones). Para cada juego y coloca estos valores en una columna separada, "
   ]
  },
  {
   "cell_type": "code",
   "execution_count": 151,
   "id": "2c4993fe",
   "metadata": {},
   "outputs": [
    {
     "name": "stderr",
     "output_type": "stream",
     "text": [
      "C:\\Users\\sistemas\\AppData\\Local\\Temp\\ipykernel_8180\\181612390.py:2: SettingWithCopyWarning: \n",
      "A value is trying to be set on a copy of a slice from a DataFrame.\n",
      "Try using .loc[row_indexer,col_indexer] = value instead\n",
      "\n",
      "See the caveats in the documentation: https://pandas.pydata.org/pandas-docs/stable/user_guide/indexing.html#returning-a-view-versus-a-copy\n",
      "  df_games_clean['ventas_totales'] =  df_games_clean['na_sales'] + df_games_clean['eu_sales']+ df_games_clean['jp_sales'] + df_games_clean['other_sales']\n",
      "C:\\Users\\sistemas\\AppData\\Local\\Temp\\ipykernel_8180\\181612390.py:3: SettingWithCopyWarning: \n",
      "A value is trying to be set on a copy of a slice from a DataFrame.\n",
      "Try using .loc[row_indexer,col_indexer] = value instead\n",
      "\n",
      "See the caveats in the documentation: https://pandas.pydata.org/pandas-docs/stable/user_guide/indexing.html#returning-a-view-versus-a-copy\n",
      "  df_games_clean['ventas_totales'] = round(df_games_clean['ventas_totales'],2)\n"
     ]
    }
   ],
   "source": [
    "#Creamos una nueva columna llamada ventas_totales con la suma de las ventas de las 4 columnas na_sales,eu_sales,jp_sales y other_sales\n",
    "df_games_clean['ventas_totales'] =  df_games_clean['na_sales'] + df_games_clean['eu_sales']+ df_games_clean['jp_sales'] + df_games_clean['other_sales']\n",
    "df_games_clean['ventas_totales'] = round(df_games_clean['ventas_totales'],2)"
   ]
  },
  {
   "cell_type": "code",
   "execution_count": 152,
   "id": "e0fe0eb6",
   "metadata": {},
   "outputs": [],
   "source": [
    "#guardamos el dataset con los valores limpios\n",
    "df_games_clean.to_csv('df_games_clean.csv',index=False)"
   ]
  }
 ],
 "metadata": {
  "kernelspec": {
   "display_name": "Python 3",
   "language": "python",
   "name": "python3"
  },
  "language_info": {
   "codemirror_mode": {
    "name": "ipython",
    "version": 3
   },
   "file_extension": ".py",
   "mimetype": "text/x-python",
   "name": "python",
   "nbconvert_exporter": "python",
   "pygments_lexer": "ipython3",
   "version": "3.13.3"
  }
 },
 "nbformat": 4,
 "nbformat_minor": 5
}
